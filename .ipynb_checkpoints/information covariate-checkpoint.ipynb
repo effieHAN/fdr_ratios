{
 "cells": [
  {
   "cell_type": "code",
   "execution_count": 1,
   "id": "ffe212bd",
   "metadata": {},
   "outputs": [],
   "source": [
    "\n",
    "import pandas as pd\n",
    "import numpy as np\n",
    "import datetime \n",
    "import scipy.stats as ss\n",
    "\n",
    "import matplotlib.pyplot as plt\n",
    "import numpy as np\n",
    "import pandas as pd\n",
    "# import pandas_datareader as pdr\n",
    "import seaborn\n",
    "\n",
    "import statsmodels.api as sm\n",
    "from statsmodels.regression.rolling import RollingOLS\n",
    "\n",
    "seaborn.set_style(\"darkgrid\")\n",
    "pd.plotting.register_matplotlib_converters()\n",
    "%matplotlib inline\n"
   ]
  },
  {
   "cell_type": "code",
   "execution_count": 2,
   "id": "ffcef70e",
   "metadata": {},
   "outputs": [],
   "source": [
    "fund= pd.read_csv(\"/Users/effiehan/Desktop/term4/swsc/fdr_ratios/date_scale/2017-03-01.csv\",index_col = 0,parse_dates = True)\n",
    "fund_list=fund[\"thscode\"].values.tolist()\n",
    "# fund_list"
   ]
  },
  {
   "cell_type": "code",
   "execution_count": 3,
   "id": "8795126c",
   "metadata": {},
   "outputs": [
    {
     "name": "stderr",
     "output_type": "stream",
     "text": [
      "/var/folders/t6/s3323hc17wbdbfgq598xgk2c0000gn/T/ipykernel_14417/3462172724.py:8: FutureWarning: Index.__and__ operating as a set operation is deprecated, in the future this will be a logical operation matching Series.__and__.  Use index.intersection(other) instead\n",
      "  interval = mask[mask>'2017-03-01'] & mask[mask<'2022-03-01']\n"
     ]
    }
   ],
   "source": [
    "data_return = []\n",
    "for i in fund_list:\n",
    "    data= pd.read_csv(\"/Users/effiehan/Desktop/term4/swsc/fdr_ratios/net_value/\"+i+\".csv\",index_col = 0,parse_dates = True)\n",
    "    data['time'] = pd.to_datetime(data['time'], infer_datetime_format=True)\n",
    "    data=data.set_index('time')\n",
    "    monthly_price = data['netAssetValue']\n",
    "    mask=monthly_price.index\n",
    "    interval = mask[mask>'2017-03-01'] & mask[mask<'2022-03-01']\n",
    "    data=pd.DataFrame(data.loc[interval,'netAssetValue'])\n",
    "    mon_return = data['netAssetValue'].pct_change()\n",
    "    mon_return = mon_return.dropna()\n",
    "    data_return.append( mon_return)\n",
    "data_return=pd.concat(data_return,axis=1, ignore_index=False)\n",
    "data_return.index = pd.to_datetime(data_return.index, format = '%y/%m/%d').strftime('%Y/%m')\n",
    "# funds=data_return.columns.tolist()\n",
    "fund_list=[\"re\"+x for x in fund_list]\n",
    "fund_list=[x.replace(\".OF\",\"OF\") for x in fund_list]\n",
    "data_return.columns=fund_list\n",
    "# data_return \n",
    "\n"
   ]
  },
  {
   "cell_type": "code",
   "execution_count": 4,
   "id": "cf6bec31",
   "metadata": {},
   "outputs": [],
   "source": [
    "carhart_1= pd.read_excel(\"/Users/effiehan/Desktop/term4/swsc/fdr_ratios/STK_MKT_CARHARTFOURFACTORS.xlsx\")\n",
    "carhart=carhart_1[['time', 'MarkettypeID',\"RiskPremium1\",'SMB1','HML1','UMD1', ]]\n",
    "carhart['time'] = pd.to_datetime(carhart['time'], infer_datetime_format=True)\n",
    "\n",
    "carhart=carhart[carhart[\"MarkettypeID\"]==\"P9706\"]\n",
    "carhart=carhart[['time', \"RiskPremium1\",'SMB1','HML1','UMD1', ]]\n",
    "carhart=carhart.rename(columns={\"RiskPremium1\":\"RiskPremium\",'SMB1':\"SMB\",'HML1':\"HML\",'UMD1':\"UMD\",}, errors=\"raise\")\n",
    "carhart=carhart.set_index('time')\n",
    "\n",
    "\n",
    "carhart.index = pd.to_datetime(carhart.index,format='%y/%m/%d').strftime('%Y/%m')\n",
    "\n",
    "\n"
   ]
  },
  {
   "cell_type": "code",
   "execution_count": null,
   "id": "9fe45ff0",
   "metadata": {},
   "outputs": [],
   "source": [
    "ff= pd.read_csv(\"/Users/effiehan/Desktop/term4/swsc/fdr_ratios/csmar/Fama-French.csv\")\n",
    "ff['time'] = pd.to_datetime(ff['time'], infer_datetime_format=True)\n",
    "ff=ff.set_index('time')\n",
    "ff.index = pd.to_datetime(ff.index,format='%y/%m/%d').strftime('%Y/%m')\n",
    "mask=ff.index\n",
    "# interval = mask[mask>'2017-03-01'] & mask[mask<'2022-03-01']\n",
    "ff=ff.query(\"index>'2017/02'\" )\n",
    "\n",
    "# ff"
   ]
  },
  {
   "cell_type": "code",
   "execution_count": 5,
   "id": "6e979a06",
   "metadata": {},
   "outputs": [],
   "source": [
    "risk_free= pd.read_excel(\"/Users/effiehan/Desktop/term4/swsc/fdr_ratios/BND_Exchange.xlsx\")\n",
    "risk_free[\"Nrrmtdt\"]=risk_free[\"Nrrmtdt\"]/100\n",
    "risk_free=risk_free.rename(columns={\"Nrrmtdt\": \"Rf\",}, errors=\"raise\")\n",
    "risk_free['time'] = pd.to_datetime(risk_free['time'])\n",
    "risk_free=risk_free.set_index('time')\n",
    "risk_free= risk_free.resample('M').agg({'Rf':'last'})\n",
    "risk_free.index = pd.to_datetime(risk_free.index, format = '%y/%m/%d').strftime('%Y/%m')\n",
    "# risk_free\n",
    "\n",
    "\n"
   ]
  },
  {
   "cell_type": "code",
   "execution_count": 6,
   "id": "c6df71de",
   "metadata": {},
   "outputs": [
    {
     "name": "stderr",
     "output_type": "stream",
     "text": [
      "/Users/effiehan/opt/anaconda3/lib/python3.9/site-packages/statsmodels/tsa/tsatools.py:142: FutureWarning: In a future version of pandas all arguments of concat except for the argument 'objs' will be keyword-only\n",
      "  x = pd.concat(x[::order], 1)\n",
      "/Users/effiehan/opt/anaconda3/lib/python3.9/site-packages/statsmodels/regression/rolling.py:248: RuntimeWarning: divide by zero encountered in double_scalars\n",
      "  s2 = ssr / (nobs - tot_params)\n"
     ]
    }
   ],
   "source": [
    "data_return=data_return.sub(risk_free['Rf'], axis=0)\n",
    "# data_return=data_return.join(carhart)\n",
    "rsquares=[]\n",
    "for i in fund_list:\n",
    "    endog = data_return[i]\n",
    "    exog = sm.add_constant(carhart[[\"RiskPremium\",\"SMB\",\"HML\",\"UMD\"]])\n",
    "    rols = RollingOLS(endog, exog, window=36)\n",
    "    rres = rols.fit()\n",
    "    params = rres.rsquared.copy()\n",
    "    params=pd.DataFrame(params)\n",
    "    rsquares.append(params)\n",
    "rsquares = pd.concat(rsquares,axis=1, ignore_index=False)\n",
    "rsquares.columns=fund_list\n",
    "\n",
    "\n",
    "\n"
   ]
  },
  {
   "cell_type": "code",
   "execution_count": 7,
   "id": "4e8064e4",
   "metadata": {},
   "outputs": [],
   "source": [
    "def sharp(ExcessR):\n",
    "    return ExcessR.mean()/np.sqrt(ExcessR.var())\n",
    "sharp=data_return.rolling(window=36).apply(lambda x: sharp(x))\n",
    "# sharp=data_return.apply(lambda x: sharp(x),axis=0)"
   ]
  },
  {
   "cell_type": "code",
   "execution_count": null,
   "id": "5b289da5",
   "metadata": {},
   "outputs": [],
   "source": []
  },
  {
   "cell_type": "code",
   "execution_count": null,
   "id": "73350d13",
   "metadata": {},
   "outputs": [],
   "source": []
  }
 ],
 "metadata": {
  "kernelspec": {
   "display_name": "Python 3 (ipykernel)",
   "language": "python",
   "name": "python3"
  },
  "language_info": {
   "codemirror_mode": {
    "name": "ipython",
    "version": 3
   },
   "file_extension": ".py",
   "mimetype": "text/x-python",
   "name": "python",
   "nbconvert_exporter": "python",
   "pygments_lexer": "ipython3",
   "version": "3.9.7"
  }
 },
 "nbformat": 4,
 "nbformat_minor": 5
}
